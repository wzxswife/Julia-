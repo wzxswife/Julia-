{
 "cells": [
  {
   "cell_type": "markdown",
   "metadata": {},
   "source": [
    "# 6.1 文本文件读写"
   ]
  },
  {
   "cell_type": "code",
   "execution_count": null,
   "metadata": {},
   "outputs": [],
   "source": [
    "fh = open(\"data/aaa.txt\"\")"
   ]
  },
  {
   "cell_type": "markdown",
   "metadata": {},
   "source": [
    "|mode(模式)|描述|关键词|\n",
    "|---|---|---|\n",
    "|r|read|none|\n",
    "|w|写入、创建、截断|write = true|\n",
    "|a|写入、创建、追加|append = true|\n",
    "|r+|读取, 写入|read = true, write = true|\n",
    "|w+|读取, 写入、创建、截断|truncate = true, read = true|\n",
    "|a+|读取, 写入、创建、写入、创建、追加|append = true, read = true|"
   ]
  },
  {
   "cell_type": "code",
   "execution_count": 5,
   "metadata": {},
   "outputs": [],
   "source": [
    "fh = open(\"data/aaa.txt\"\",\"w\") #文件写入\n",
    "println(fh,\"123\")\n",
    "close(fh)"
   ]
  },
  {
   "cell_type": "code",
   "execution_count": null,
   "metadata": {},
   "outputs": [],
   "source": [
    "fh = open(\"data/aaa.txt\",\"a\") #文件追加\n",
    "println(fh,\"123\")\n",
    "txt = read(fh,String)\n",
    "println(txt)\n",
    "close(fh)"
   ]
  },
  {
   "cell_type": "code",
   "execution_count": 3,
   "metadata": {},
   "outputs": [],
   "source": [
    "open(\"data/runoob-file.txt\", \"w\") do io\n",
    "    write(io, \"Hello world!\\nRunoob Julia Test\")\n",
    "    txt = read(io,String)\n",
    "end;"
   ]
  },
  {
   "cell_type": "code",
   "execution_count": null,
   "metadata": {},
   "outputs": [],
   "source": [
    "open(\"data/runoob-file.txt\") do file\n",
    "    # 逐行读取文件内容\n",
    "        for ln in eachline(file)\n",
    "            # 输出字符串长度与字符串\n",
    "            println(\"$(length(ln)), $(ln)\")\n",
    "        end\n",
    "    end"
   ]
  },
  {
   "cell_type": "markdown",
   "metadata": {},
   "source": [
    "# 6.2 文件和目录信息"
   ]
  },
  {
   "cell_type": "code",
   "execution_count": null,
   "metadata": {},
   "outputs": [],
   "source": [
    "root = dirname(@__FILE__) #获取正在运行的源程序文件所在的目录\n",
    "fd = joinpath(root, \"data\", \"class19.csv\")"
   ]
  },
  {
   "cell_type": "markdown",
   "metadata": {},
   "source": [
    "用ispath(filename)判断每个文件或者目录是否存在。 用isdir(filename)判断某个路径是否目录， 用isfile(filename)判断某个路径是否文件。\n",
    "\n",
    "用readdir(path)返回指定目录的文件和子目录列表， 无path时对应当前工作目录。\n",
    "\n",
    "walkdir(path)提供了对一个目录及其中的子目录遍历的功能， 遍历时提供了当前目录、其中的子目录列表、其中的文件列表。"
   ]
  },
  {
   "cell_type": "code",
   "execution_count": null,
   "metadata": {},
   "outputs": [],
   "source": [
    "for (root, dirs, files) in walkdir(\"E:/Acode/markdown\")\n",
    "    println(\"正在显示$(root)内容---子目录：\")\n",
    "    for dir in dirs\n",
    "        println(joinpath(root, dir)) # path to directories\n",
    "    end\n",
    "    println(\"正在显示$(root)内容---文件：\")\n",
    "    for file in files\n",
    "        println(joinpath(root, file)) # path to files\n",
    "    end\n",
    "end"
   ]
  },
  {
   "cell_type": "code",
   "execution_count": null,
   "metadata": {},
   "outputs": [],
   "source": [
    "# stat() 函数用于获取文件的信息\n",
    "for n in fieldnames(typeof(stat(\"data/runoob-file.txt\")))\n",
    "    println(n, \": \", getfield(stat(\"data/runoob-file.txt\"),n))\n",
    "end"
   ]
  }
 ],
 "metadata": {
  "kernelspec": {
   "display_name": "Julia 1.10.7",
   "language": "julia",
   "name": "julia-1.10"
  },
  "language_info": {
   "file_extension": ".jl",
   "mimetype": "application/julia",
   "name": "julia",
   "version": "1.10.7"
  }
 },
 "nbformat": 4,
 "nbformat_minor": 2
}
