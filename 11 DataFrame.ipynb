{
 "cells": [
  {
   "cell_type": "markdown",
   "metadata": {},
   "source": [
    "# 11 DataFrame"
   ]
  },
  {
   "cell_type": "markdown",
   "metadata": {},
   "source": [
    "## 11.1 DataFrame的生成"
   ]
  },
  {
   "cell_type": "code",
   "execution_count": null,
   "metadata": {},
   "outputs": [],
   "source": [
    "using DataFrames\n",
    "da0 = DataFrame(\n",
    "    name=[\"张三\", \"李四\", \"王五\", \"赵六\"], \n",
    "    age=[33, 42, missing, 51],\n",
    "    sex=[\"M\", \"F\", \"M\", \"M\"])\n",
    "da1 = copy(da0)"
   ]
  },
  {
   "cell_type": "code",
   "execution_count": null,
   "metadata": {},
   "outputs": [],
   "source": [
    "mat0 = [[1, 3, 5, 7] [2, 3, 3, 6]]\n",
    "mat1 = DataFrame(mat0,:auto)\n",
    "rename!(mat1, [\"colma\", \"colmb\"]) # 重命名"
   ]
  },
  {
   "cell_type": "markdown",
   "metadata": {},
   "source": [
    "## 11.2 访问DataFrame信息"
   ]
  },
  {
   "cell_type": "code",
   "execution_count": null,
   "metadata": {},
   "outputs": [],
   "source": [
    "using DataFrames\n",
    "println((nrow(da1), ncol(da1)))\n",
    "# 用names(df)返回数据框的变量名字符串数组， 而propertynames(df)返回变量名的符号数组\n",
    "println(@show names(da1))\n",
    "println(@show propertynames(da1))"
   ]
  },
  {
   "cell_type": "code",
   "execution_count": null,
   "metadata": {},
   "outputs": [],
   "source": [
    "# 获取每列的类型\n",
    "zip(names(da1), string.(eltype.(eachcol(da1)))) |> \n",
    "    DataFrame |>\n",
    "    d -> rename!(d, [\"Variable\", \"Type\"])"
   ]
  },
  {
   "cell_type": "markdown",
   "metadata": {},
   "source": [
    "## 11.3 访问DataFrame内容"
   ]
  },
  {
   "cell_type": "markdown",
   "metadata": {},
   "source": [
    "### 11.3.1 访问单个元素"
   ]
  },
  {
   "cell_type": "code",
   "execution_count": null,
   "metadata": {},
   "outputs": [],
   "source": [
    "using DataFrames\n",
    "da1[2,1]\n",
    "da1[2,:name]\n",
    "da1[2,\"name\"]"
   ]
  },
  {
   "cell_type": "code",
   "execution_count": null,
   "metadata": {},
   "outputs": [],
   "source": [
    "# 修改元素的值\n",
    "da1[2,:name] = \"孙七\"\n",
    "da1"
   ]
  },
  {
   "cell_type": "markdown",
   "metadata": {},
   "source": [
    "### 11.3.2 访问一列"
   ]
  },
  {
   "cell_type": "code",
   "execution_count": null,
   "metadata": {},
   "outputs": [],
   "source": [
    "# 访问一列：df[!,2], df[!, \"age\"]或df[!, :age]\n",
    "da1[!, :age]\n",
    "da1[2,:]"
   ]
  },
  {
   "cell_type": "code",
   "execution_count": null,
   "metadata": {},
   "outputs": [],
   "source": [
    "# 在行下标处使用叹号不制作列向量的副本， 效率较高， 可以修改提取的列的值。 可以用冒号:作为行下标， 这会生成一列的副本。\n",
    "# 使用冒号格式，数据不会被修改\n",
    "x = da1[:, :age]\n",
    "x[:] = x .+ 100\n",
    "println(da1)\n",
    "# 使用叹号格式，则会被修改\n",
    "x = da1[!, :age]\n",
    "x[:] = x .+ 100\n",
    "println(da1)"
   ]
  },
  {
   "cell_type": "markdown",
   "metadata": {},
   "source": [
    "当列下标为单个整数、符号、字符串、字符串变量时， 行下标写!或者写:都可以取出一列作为数组。\n",
    "\n",
    "* 叹号格式为“视图”，不制作副本， 修改取出数组同时也会修改原始数据框。\n",
    "* 冒号格式会制作一列的副本， 除非将冒号格式直接放在赋值的左侧， 都不会修改原始数据框。\n",
    "* 为安全起见，应使用冒号格式； 对于很大的数据框， 复制会造成较大开销， 可以谨慎地使用叹号格式。"
   ]
  },
  {
   "cell_type": "markdown",
   "metadata": {},
   "source": [
    "### 11.3.3 用select选列子集"
   ]
  },
  {
   "cell_type": "code",
   "execution_count": null,
   "metadata": {},
   "outputs": [],
   "source": [
    "# select可以挑选列子集，返回副本\n",
    "println(select(da1, :name, :age))\n",
    "# 用Not()说明要去掉的列\n",
    "println(select(da1, Not([:name, :age])))\n",
    "# 如下的做法可以将某一列提前到第一列：\n",
    "println(select(da1, :age, :))"
   ]
  },
  {
   "cell_type": "markdown",
   "metadata": {},
   "source": [
    "### 11.3.4 访问行子集"
   ]
  },
  {
   "cell_type": "code",
   "execution_count": null,
   "metadata": {},
   "outputs": [],
   "source": [
    "# 可以用first(df,k)取出df前面k行组成的子集， 用last(df,k)取出df最后k行组成的子集。\n",
    "println(first(da1, 2))\n",
    "println(last(da1, 2))\n",
    "# 除了用行序号取行子集， 还可以用条件取行子集\n",
    "print(da0[da0.sex .== \"F\", :])\n",
    "# 可以用in.()判断某列的值是否属于某个子集， 此子集使用Ref()函数指定\n",
    "print(da0[in.(da0.name, Ref([\"张三\", \"李四\"])), :])"
   ]
  },
  {
   "cell_type": "code",
   "execution_count": null,
   "metadata": {},
   "outputs": [],
   "source": [
    "# subset()函数输入一个数据框和若干个变量名和关于该变量选择行子集的示性函数（返回逻辑值的函数）， 返回满足条件的子集副本\n",
    "print(subset(da0, :sex => x -> x .== \"M\"))\n",
    "# 如果某一列有缺失值， 则对此列的逻辑判断结果也会有缺失值。 这时可以用coallese()函数指定缺失时的结果替换值，如：\n",
    "print(subset(da0, :age => x -> coalesce.(x .< 45, false), :sex => x -> x .== \"M\"))\n",
    "print(subset(da0, :age => x -> x .< 45, :sex => x -> x .== \"M\",skipmissing=true))"
   ]
  },
  {
   "cell_type": "code",
   "execution_count": null,
   "metadata": {},
   "outputs": [],
   "source": [
    "# 可以用filter(f, df)取出df的满足条件的行子集， 其中f是一个以一行作为有名元组类型自变量的示性函数\n",
    "print(filter(row -> row.sex == \"F\", da1))\n",
    "# filter!则会修改输入的数据框， 仅保留满足条件的行"
   ]
  },
  {
   "cell_type": "markdown",
   "metadata": {},
   "source": [
    "### 11.3.5 访问行列子集"
   ]
  },
  {
   "cell_type": "code",
   "execution_count": null,
   "metadata": {},
   "outputs": [],
   "source": [
    "# 对行、列下标可以指定范围， 用下标向量或者变量名符号向量\n",
    "print(da1[2:4, [1,3]])\n",
    "print(da1[2:4, [:name, :sex]])\n",
    "# 如果仅取一列， 结果将不再是数据框， 而是普通数组\n",
    "print(da1[2:4, :sex])\n",
    "# 但是， 如果列下标位置使用数组记号， 则可以取出仅有一列的数据框\n",
    "print(da1[2:4,[:sex]])"
   ]
  },
  {
   "cell_type": "code",
   "execution_count": null,
   "metadata": {},
   "outputs": [],
   "source": [
    "# 视图是数据框的一个子集， 但不制作副本， 修改视图也会修改原始数据框。 \n",
    "# 对大型数据访问效率更高， 但访问其中一部分时序号进行下标转换， 有一些额外开销。\n",
    "da2v = @view da1[2:4, [:sex, :age]]"
   ]
  },
  {
   "cell_type": "markdown",
   "metadata": {},
   "source": [
    "### 11.3.6 添加列"
   ]
  },
  {
   "cell_type": "code",
   "execution_count": null,
   "metadata": {},
   "outputs": [],
   "source": [
    "da1 = copy(da0)\n",
    "da1[!,:group] = [1,1,2,2]\n",
    "print(da1)\n",
    "\n",
    "# 如果需要添加一些统计量列， 可以用transform()函数， 格式是transform(df, 列名 => 变换函数 => 结果变量名)\n",
    "using Statistics\n",
    "da1[!,:height] .= [166, 182, 173, 171]\n",
    "da2 = transform(da1, :height => maximum => :max_height)\n",
    "print(da2)\n",
    "\n",
    "# 也可以对某一列的每一行进行变化， 这时用ByRow()说明要进行的变换。 可以对多列分别变换。\n",
    "da2 = transform(da1, \n",
    "    :height => maximum => :max_height,\n",
    "    :age => ByRow(x -> x + 20) => :newage)\n",
    "print(da2)\n",
    "\n",
    "# 可以用Cols()将不同的列选择方式合并使用\n",
    "# da2 = da1[:, Cols(:name, Between(:sex, :height))]\n",
    "print(da1[:, Cols(:name, Between(:sex, :height))])"
   ]
  },
  {
   "cell_type": "markdown",
   "metadata": {},
   "source": [
    "### 11.3.7 添加行"
   ]
  },
  {
   "cell_type": "code",
   "execution_count": null,
   "metadata": {},
   "outputs": [],
   "source": [
    "da1 = copy(da0)\n",
    "da2 = push!(da1, (\"钱多\", 59, \"M\"))\n",
    "print(da2)"
   ]
  },
  {
   "cell_type": "markdown",
   "metadata": {},
   "source": [
    "## 11.4 文件读写"
   ]
  },
  {
   "cell_type": "markdown",
   "metadata": {},
   "source": [
    "### 11.4.1 CSV文件读写"
   ]
  },
  {
   "cell_type": "code",
   "execution_count": null,
   "metadata": {},
   "outputs": [],
   "source": [
    "# 读入\n",
    "using CSV, DataFrames\n",
    "d_class = CSV.read(\"data/class9.csv\", DataFrame)"
   ]
  },
  {
   "cell_type": "code",
   "execution_count": null,
   "metadata": {},
   "outputs": [],
   "source": [
    "# 选项：用户可以用types参数指定一个从变量名字符串到类型的字典\n",
    "d_class = CSV.read(\"data/class9.csv\", DataFrame,\n",
    "        types=Dict(\n",
    "            \"name\" => String, \n",
    "            \"sex\" => String, \n",
    "            \"height\" => Float64,\n",
    "            \"weight\" => Float64))"
   ]
  },
  {
   "cell_type": "code",
   "execution_count": null,
   "metadata": {},
   "outputs": [],
   "source": [
    "# 从网络读入\n",
    "using Downloads\n",
    "urlf = \"https://archive.ics.uci.edu/ml/machine-learning-databases/heart-disease/processed.cleveland.data\"\n",
    "dht = CSV.read(Downloads.download(urlf), DataFrame,\n",
    "    header=0)\n",
    "rename!(dht, [\"age\", \"sex\", \"cp\", \"trestbps\", \"chol\", \n",
    "    \"fbs\", \"restecg\", \"thalach\", \"exang\", \"oldpeak\",    \n",
    "    \"slope\", \"ca\", \"thal\", \"num\"])\n",
    "print(first(dht,5))"
   ]
  },
  {
   "cell_type": "code",
   "execution_count": null,
   "metadata": {},
   "outputs": [],
   "source": [
    "# 写出\n",
    "CSV.write(\"data/cleveland.csv\",dht)"
   ]
  },
  {
   "cell_type": "markdown",
   "metadata": {},
   "source": [
    "### 11.4.2 Excel文件读写"
   ]
  },
  {
   "cell_type": "code",
   "execution_count": null,
   "metadata": {},
   "outputs": [],
   "source": []
  },
  {
   "cell_type": "markdown",
   "metadata": {},
   "source": [
    "## 11.5 数据框变量概括"
   ]
  },
  {
   "cell_type": "code",
   "execution_count": null,
   "metadata": {},
   "outputs": [],
   "source": [
    "# 用describe()函数对数据框各个变量进行简单概括， 结果为数据框格式\n",
    "using CSV, DataFrames,Downloads\n",
    "urlf = \"https://archive.ics.uci.edu/ml/machine-learning-databases/heart-disease/processed.cleveland.data\"\n",
    "dht = CSV.read(Downloads.download(urlf), DataFrame,\n",
    "    header=0)\n",
    "rename!(dht, [\"age\", \"sex\", \"cp\", \"trestbps\", \"chol\", \n",
    "    \"fbs\", \"restecg\", \"thalach\", \"exang\", \"oldpeak\",    \n",
    "    \"slope\", \"ca\", \"thal\", \"num\"])\n",
    "describe(dht)"
   ]
  },
  {
   "cell_type": "code",
   "execution_count": null,
   "metadata": {},
   "outputs": [],
   "source": [
    "# 常用统计函数有mean, median, var, std, iqr, minimum, maximum, quantile.summarystats(x)函数对数值型变量x计算各种简单统计量， 以纯文本格式显示\n",
    "using Statistics, StatsBase\n",
    "summarystats(dht[!,\"age\"])\n",
    "\n",
    "# 两个变量可以用cov(x,y)计算协方差， cor(x,y)计算相关系数\n",
    "# cov(hcat(eachcol(dcl)...))"
   ]
  },
  {
   "cell_type": "code",
   "execution_count": null,
   "metadata": {},
   "outputs": [],
   "source": [
    "# 可以用combine函数计算统计量。 \n",
    "# 输入数据框， 以及用变量名 => 统计函数或者变量名 => 统计函数 => 结果变量名方式指定的一个或多个要汇总的内容。\n",
    "combine(d_class, :height => mean, :weight => mean)"
   ]
  },
  {
   "cell_type": "markdown",
   "metadata": {},
   "source": [
    "## 11.6 简单修改"
   ]
  },
  {
   "cell_type": "code",
   "execution_count": null,
   "metadata": {},
   "outputs": [],
   "source": [
    "# 用transform!修改列\n",
    "dc1 = copy(d_class)\n",
    "transform!(dc1, :height => (x -> x ./ 100),renamecols = false)"
   ]
  },
  {
   "cell_type": "code",
   "execution_count": null,
   "metadata": {},
   "outputs": [],
   "source": [
    "# 用mapcols()对数据框的所有列应用某种变换， 返回变换结果\n",
    "dc2 = mapcols(x -> x ./100, dc1[:, [\"age\", \"height\", \"weight\"]])\n",
    "print(first(dc2, 3))"
   ]
  },
  {
   "cell_type": "code",
   "execution_count": null,
   "metadata": {},
   "outputs": [],
   "source": [
    "# 用replace!()函数对数据框指定的列的某些值进行替换\n",
    "replace!(dc1.sex, \"F\" => \"女\", \"M\" => \"男\")\n",
    "\n",
    "# replace!函数也可以输入一个替换函数， 按该替换函数的映射将第二自变量进行值替换\n",
    "replace!(x -> ismissing(x) ? 0 : x, dc1[!, :age])\n",
    "print(first(dc1,3))\n",
    "# 将某些值替换为missing， 需要先用allowmissing!将整个数据框的所有列(或指定列)允许有缺失值， 然后使用.=赋值"
   ]
  },
  {
   "cell_type": "code",
   "execution_count": null,
   "metadata": {},
   "outputs": [],
   "source": [
    "# 对所有列如果要统一替换， 可以选择整个数据框\n",
    "da2 = DataFrame(x = [1, 2, 0, 4],y = [11, 0, 33, 44])\n",
    "allowmissing!(da2)\n",
    "da2 .= ifelse.(da2 .== 0, missing, da2)"
   ]
  },
  {
   "cell_type": "markdown",
   "metadata": {},
   "source": [
    "## 11.7 排序"
   ]
  },
  {
   "cell_type": "code",
   "execution_count": null,
   "metadata": {},
   "outputs": [],
   "source": [
    "# 用sort!()函数将数据框安装某一列或某几列排序。 这个函数会修改其输入， 输入的数据框会被修改为排序后的值。\n",
    "dc1 = copy(d_class)\n",
    "sort!(dc1, :age)\n",
    "print(first(dc1,5))"
   ]
  },
  {
   "cell_type": "code",
   "execution_count": null,
   "metadata": {},
   "outputs": [],
   "source": [
    "# 可以指定多列，当前一列相同时按后一列排序：\n",
    "sort!(dc1, [:sex, :age])\n",
    "print(first(dc1,5))"
   ]
  },
  {
   "cell_type": "code",
   "execution_count": null,
   "metadata": {},
   "outputs": [],
   "source": [
    "# 在指定排序变量时， 可以用order()函数指定选项， 如rev=true指定降序， by=uppercase指定按转换为大写后排序\n",
    "sort!(dc1, [:sex, order(:age, rev=true)])\n",
    "print(first(dc1,5))"
   ]
  },
  {
   "cell_type": "markdown",
   "metadata": {},
   "source": [
    "## 11.8 纵向合并"
   ]
  },
  {
   "cell_type": "code",
   "execution_count": null,
   "metadata": {},
   "outputs": [],
   "source": [
    "# 如果两个数据框df1和df2结构相同， 只是保存了不同的观测， 可以用vcat(df1, df2)返回上下合并的结果\n",
    "using DataFrames\n",
    "df1 = DataFrame(id = [1, 2], x = [101, 102])\n",
    "df2 = DataFrame(id = [3, 4], x = [201, 202])\n",
    "vcat(df1, df2)"
   ]
  },
  {
   "cell_type": "code",
   "execution_count": null,
   "metadata": {},
   "outputs": [],
   "source": [
    "# 可以用append!(df1, df2)将内容合并到df1中\n",
    "append!(df1, df2)\n",
    "df1"
   ]
  },
  {
   "cell_type": "markdown",
   "metadata": {},
   "source": [
    "## 11.9 横向合并"
   ]
  },
  {
   "cell_type": "markdown",
   "metadata": {},
   "source": [
    "* innerjoin(a,b, on=...)默认将左右能匹配的观测保留， 不能匹配的删除， 这在数据库术语中称为“内连接”（inner join）。\n",
    "如果用来连接的关键列名字不一样， 可以提供对作为on的输入，如on = :id => :num。\n",
    "* leftjoin作左连接，即保留左侧数据框所有观测， 右侧数据框仅保留能匹配的观测。\n",
    "* rightjoin作右连接，保留右侧数据框所有观测， 左侧数据框仅保留能匹配的观测。\n",
    "* outerjoin作全外连接。保留两侧数据框所有观测。\n",
    "* semijoin仅保留左侧数据框能匹配的观测， 不保留右侧数据框内容， 实际是用右侧数据框的键值来选择左侧数据框的内容。\n",
    "* antijoin仅保留左侧数据框不能匹配的观测， 不保留右侧数据框内容， 也是用右侧数据框的键值来排除左侧数据框的内容。"
   ]
  },
  {
   "cell_type": "code",
   "execution_count": null,
   "metadata": {},
   "outputs": [],
   "source": [
    "using DataFrames\n",
    "dfj9 = DataFrame(id=[\"a\", \"b\"], X=[91,92])\n",
    "dfj10 = DataFrame(id=[\"a\", \"c\"], Y=[101,102])\n",
    "println(innerjoin(dfj9,dfj10,on=:id))\n",
    "println(leftjoin(dfj9, dfj10, on=:id))\n",
    "println(rightjoin(dfj9, dfj10, on=:id))\n",
    "println(outerjoin(dfj9, dfj10, on=:id))\n",
    "# 在左连接、右连接或外连接时， 可以用source = 列名选项使得输出中增加一项用来表示当前观测是否仅来自左侧、仅来自右侧还是来自两侧\n",
    "println(outerjoin(dfj9, dfj10, on=:id, source = :source))"
   ]
  },
  {
   "cell_type": "code",
   "execution_count": null,
   "metadata": {},
   "outputs": [],
   "source": [
    "# crossjoin则对输入的两个或多个数据框找到观测的所有组合， 输出组合的结果。 不使用on自变量。\n",
    "dfc1 = DataFrame(a = [1,2,3], b=[\"a\", \"a\", \"b\"])\n",
    "dfc2 = DataFrame(c = [21,22])\n",
    "println(crossjoin(dfc1, dfc2))"
   ]
  },
  {
   "cell_type": "markdown",
   "metadata": {},
   "source": [
    "## 11.10 长宽表转换"
   ]
  },
  {
   "cell_type": "code",
   "execution_count": null,
   "metadata": {},
   "outputs": [],
   "source": [
    "# stack函数将同一行的不同列堆叠到同一列中， 实现宽表到长表的转换\n",
    "using DataFrames\n",
    "dw1 = DataFrame(id=[\"a\", \"b\", \"c\"], x1 = [11, 12, 13], x2=[21, 22, 23])\n",
    "println(dw1)\n",
    "dw1t = stack(dw1, [:x1, :x2], :id)\n",
    "println(dw1t)"
   ]
  },
  {
   "cell_type": "code",
   "execution_count": null,
   "metadata": {},
   "outputs": [],
   "source": [
    "# unstack函数将放在同一列的多个测量值转为存放在同一行， 并适当命名\n",
    "d1n = DataFrame(id=[\"a\", \"a\", \"b\", \"b\", \"c\", \"c\"],time = [1,2,1,2,1,2],value=[11,12, 21,22, 31,32])\n",
    "println(d1n)\n",
    "d1nw = unstack(d1n, :id, :time, :value)\n",
    "println(d1nw)\n"
   ]
  },
  {
   "cell_type": "markdown",
   "metadata": {},
   "source": [
    "## 11.11 缺失值管理"
   ]
  },
  {
   "cell_type": "code",
   "execution_count": null,
   "metadata": {},
   "outputs": [],
   "source": [
    "# 用ismissing()判断某个值是否缺失值， 加点以后可以判断某个向量的每个元素\n",
    "using DataFrames\n",
    "da0 = DataFrame(\n",
    "    name=[\"张三\", \"李四\", \"王五\", \"赵六\"], \n",
    "    age=[33, 42, missing, 51],\n",
    "    sex=[\"M\", \"F\", \"M\", \"M\"])\n",
    "da1 = copy(da0)\n",
    "ismissing.(da1[!,:age]) |>show"
   ]
  },
  {
   "cell_type": "code",
   "execution_count": null,
   "metadata": {},
   "outputs": [],
   "source": [
    "# 有missing参与的四则运算、比较、数学计算一般返回缺失值。 用skipmissing()可以在计算时删除指定列中的缺失值进行计算\n",
    "@show sum(da1[!,:age])\n",
    "@show sum(skipmissing(da1[!,:age]))"
   ]
  },
  {
   "cell_type": "code",
   "execution_count": null,
   "metadata": {},
   "outputs": [],
   "source": [
    "# 用coalesce.()可以将缺失值替换为指定的值\n",
    "coalesce.(da1[!,:age], 0) |> show"
   ]
  },
  {
   "cell_type": "code",
   "execution_count": null,
   "metadata": {},
   "outputs": [],
   "source": [
    "# 用Missings.replace()输出一个迭代器， 可以在计算中用指定值替换缺失值\n",
    "sum(Missings.replace(da1[!,:age], 0))"
   ]
  },
  {
   "cell_type": "code",
   "execution_count": null,
   "metadata": {},
   "outputs": [],
   "source": [
    "# 为了获得整个数据框df中每行是否不含任何缺失值的示性值（1表示没有缺失值，0表示有），用DataFrames.completecases(df)函数。\n",
    "DataFrames.completecases(da1) |> show"
   ]
  },
  {
   "cell_type": "code",
   "execution_count": null,
   "metadata": {},
   "outputs": [],
   "source": [
    "# 将整个数据框中含有缺失值的观测都删去， 用DataFrames.dropmissing!(df)函数。\n",
    "dropmissing!(da1)\n",
    "da1 |> show"
   ]
  },
  {
   "cell_type": "markdown",
   "metadata": {},
   "source": [
    "## 11.12 分类变量"
   ]
  },
  {
   "cell_type": "code",
   "execution_count": null,
   "metadata": {},
   "outputs": [],
   "source": [
    "# 用categorical()函数将分类变量转换成分类数组类型， 允许有缺失值(missing)\n",
    "using CategoricalArrays,CSV,DataFrames\n",
    "d_class = CSV.read(\"data/class9.csv\", DataFrame)\n",
    "dcl = copy(d_class);\n",
    "dcl[!,:sex] = categorical(dcl[!,:sex]);\n",
    "show(dcl[!,:sex])\n",
    "typeof(dcl[!,:sex])"
   ]
  },
  {
   "cell_type": "code",
   "execution_count": null,
   "metadata": {},
   "outputs": [],
   "source": [
    "# 若x为整型变量， StatsBase.counts(x)对x的最小值到最大值的所有整数值计算频数\n",
    "using StatsBase\n",
    "dcl = copy(d_class)\n",
    "dcl[:,:age] |> x -> DataFrame(\n",
    "    age = minimum(x):maximum(x),\n",
    "    count = StatsBase.counts(x))"
   ]
  },
  {
   "cell_type": "code",
   "execution_count": null,
   "metadata": {},
   "outputs": [],
   "source": [
    "# 函数StatsBase.frequency(x)计算比例\n",
    "# 对于更一般的类型如字符串， counts和frequency不支持， 可以使用更一般的StatsBase.countmap(x)函数\n",
    "StatsBase.countmap(dcl[:,:sex]) |> show\n",
    "\n",
    "# countmap输出一个字典， 缺点是不能排序。 利用这个函数写一个频数函数\n",
    "function freqd(x)\n",
    "    di = StatsBase.countmap(x)\n",
    "    d = DataFrame(x = collect(keys(di)), count = collect(values(di)))\n",
    "    sort!(d)\n",
    "    return d\n",
    "end\n",
    "freqd(dcl[:,:sex])"
   ]
  },
  {
   "cell_type": "markdown",
   "metadata": {},
   "source": [
    "## 11.13 日期和时间类型"
   ]
  },
  {
   "cell_type": "markdown",
   "metadata": {},
   "source": [
    "### 日期时间"
   ]
  },
  {
   "cell_type": "code",
   "execution_count": null,
   "metadata": {},
   "outputs": [],
   "source": [
    "# Dates.today()返回当天日期。\n",
    "# 可以从年月日的整数值用Dates.Date()转换成日期， 也可以从日期字符串按照某个模板转换成日期\n",
    "import Dates\n",
    "Dates.Date(2018)\n",
    "## 2018-01-01\n",
    "Dates.Date(2018, 10)\n",
    "## 2018-10-01\n",
    "Dates.Date(2018, 10, 31)\n",
    "## 2018-10-31\n",
    "Dates.Date(\"2018-10-31\")\n",
    "## 2018-10-31\n",
    "Dates.Date(\"2018-10-31\", \"y-m-d\")\n",
    "## 2018-10-31\n",
    "Dates.Date(\"20181031\", \"yyyymmdd\")\n",
    "## 2018-10-31\n",
    "Dates.Date.([2018, 2018], [3, 10], [15, 31])"
   ]
  },
  {
   "cell_type": "code",
   "execution_count": null,
   "metadata": {},
   "outputs": [],
   "source": [
    "# 可以用DateTime()函数将年、月、日、时、分、秒、毫秒整数值转换成日期时间， 精确到1毫秒\n",
    "Dates.DateTime(2018, 10, 31, 12, 15, 30, 136)"
   ]
  },
  {
   "cell_type": "markdown",
   "metadata": {},
   "source": [
    "### 提取成分\n",
    "* 用Dates.year(d)提取年，Dates.month(d)提取月份数值， Dates.day(d)提取日数值。\n",
    "* 用Dates.yearmonth(d)提取年、月元组， Dates.monthday(d)提取月、日元组， Dates.yearmonthday(d)提取年、月、日元组。\n",
    "* 用Dates.dayofweek(d)提取星期几的数值， 星期一返回1，星期日返回7。\n",
    "* 用Dates.dayname(d)返回星期几的名称，如\"Monday\"。\n",
    "* 用Dates.dayofmonth(d)返回当前的星期号码是本月的第几个。"
   ]
  },
  {
   "cell_type": "markdown",
   "metadata": {},
   "source": [
    "### 日期运算\n",
    "两个日期或者时间可以比较大小， 可以相减。结果带有单位， 用Dates.value()转换为表示天数或者毫秒数的整数值"
   ]
  },
  {
   "cell_type": "code",
   "execution_count": null,
   "metadata": {},
   "outputs": [],
   "source": [
    "Dates.Date(2018, 10, 31) - Dates.Date(2018) |> Dates.value\n",
    "## 303\n",
    "Dates.DateTime(2018, 10, 31, 12, 15, 30, 136) - \n",
    "  Dates.DateTime(2018) |> Dates.value \n",
    "## 26223330136\n",
    "Dates.DateTime(2018, 10, 31, 12, 15, 30, 136) - \n",
    "Dates.DateTime(2018) |> \n",
    "Dates.value |> \n",
    "x -> x / (24*3600*1000)"
   ]
  },
  {
   "cell_type": "markdown",
   "metadata": {},
   "source": [
    "日期和日期时间不能直接加减数值， 而需要用单位表示，类型为Dates.Period。 比如， 加一天应该加Dates.Day(1)； 单位包括：\n",
    "* Dates.Year()\n",
    "* Dates.Month()\n",
    "* Dates.Day()\n",
    "* Dates.Hour()\n",
    "* Dates.Minute()\n",
    "* Dates.Second()\n",
    "* Dates.Millisecond(): 毫秒"
   ]
  },
  {
   "cell_type": "code",
   "execution_count": null,
   "metadata": {},
   "outputs": [],
   "source": [
    "Dates.Date(\"2020-01-01\", \"y-m-d\") + Dates.Year(2) + Dates.Month(6) + Dates.Day(15)"
   ]
  },
  {
   "cell_type": "markdown",
   "metadata": {},
   "source": [
    "### 日期序列\n",
    "可以用start:step:end格式生成一系列日期， 其中step用日期单位。"
   ]
  },
  {
   "cell_type": "code",
   "execution_count": null,
   "metadata": {},
   "outputs": [],
   "source": [
    "Dates.Date(\"2020-01-01\"):Dates.Day(1):Dates.Date(\"2020-01-07\") |> collect"
   ]
  },
  {
   "cell_type": "markdown",
   "metadata": {},
   "source": [
    "## 11.14 使用DataFramesMeta包"
   ]
  },
  {
   "cell_type": "markdown",
   "metadata": {},
   "source": [
    "### 查询、排序、计算新变量"
   ]
  },
  {
   "cell_type": "code",
   "execution_count": null,
   "metadata": {},
   "outputs": [],
   "source": [
    "using DataFrames, DataFramesMeta, CSV\n",
    "d_class = CSV.read(\"data/class9.csv\", DataFrame)\n",
    "@chain d_class begin\n",
    "    @subset(:sex .== \"M\")\n",
    "    @transform(:bmi = :weight ./ (:height ./ 100.0).^2)\n",
    "    @select(:name, :years = :age, :bmi)\n",
    "    @orderby(:name)\n",
    "    first(3)\n",
    "end"
   ]
  },
  {
   "cell_type": "markdown",
   "metadata": {},
   "source": [
    "* 用@chain指定进行一系列的数据框操作， 用begin和end界定。\n",
    "* 用@subset取行子集， 注意关于列向量的比较运算需要使用加点的广播形式。 多个条件用逗号分隔。\n",
    "* 用@transform计算新变量， 注意使用列向量进行计算时要用广播形式。 多个新变量定义用逗号分隔。\n",
    "* 用@select选择列子集， 并且可以用新变量名=老变量名的格式改名。\n",
    "* 用@orderby排序。 可以使用多个变量。 如果某个变量x需要降序排列， 用sortperm(:x, rev=true)。"
   ]
  },
  {
   "cell_type": "markdown",
   "metadata": {},
   "source": [
    "### 用@combine汇总计算"
   ]
  },
  {
   "cell_type": "code",
   "execution_count": null,
   "metadata": {},
   "outputs": [],
   "source": [
    "aa = @chain d_class begin\n",
    "    @combine(:n = length(:height), \n",
    "        :mean = mean(:height),\n",
    "        :std = std(:height))\n",
    "end"
   ]
  },
  {
   "cell_type": "markdown",
   "metadata": {},
   "source": [
    "### 用groupby和@combine汇总计算"
   ]
  },
  {
   "cell_type": "code",
   "execution_count": null,
   "metadata": {},
   "outputs": [],
   "source": [
    "@chain d_class begin\n",
    "    groupby(:sex)\n",
    "    @combine(:n = length(:height), \n",
    "        :mean = mean(:height),\n",
    "        :std = std(:height))\n",
    "end"
   ]
  },
  {
   "cell_type": "code",
   "execution_count": null,
   "metadata": {},
   "outputs": [],
   "source": [
    "@chain d_class begin\n",
    "    groupby(:sex)\n",
    "    @transform(:hextra = :height .- minimum(:height))\n",
    "    @orderby(:sex, :hextra)\n",
    "end"
   ]
  },
  {
   "cell_type": "markdown",
   "metadata": {},
   "source": [
    "## 11.15 用Query包进行查询"
   ]
  },
  {
   "cell_type": "code",
   "execution_count": null,
   "metadata": {},
   "outputs": [],
   "source": [
    "using Query, DataFramesMeta, CSV\n",
    "d_class = CSV.read(\"data/class9.csv\", DataFrame)\n",
    "df_tmp = @from i in d_class begin\n",
    "    @where i.sex==\"F\" && i.age <= 12\n",
    "    @select {i.name, 体重=i.weight}\n",
    "    @orderby 体重\n",
    "    @collect DataFrame\n",
    "end\n",
    "@show df_tmp"
   ]
  },
  {
   "cell_type": "markdown",
   "metadata": {},
   "source": [
    "## 11.16 分组汇总"
   ]
  },
  {
   "cell_type": "markdown",
   "metadata": {},
   "source": [
    "对数据框经常需要按某一个或几个分类变量进行分类汇总。 可以将数据框分成若干个子数据框， 对每一自数据进行一些汇总处理， 然后将汇总结果合并为一个数据框， 这样的流程称为“分组-操作-合并”(Split-Apply-Combine)。\n",
    "\n",
    "用groupby()函数分组。 分组后， 可以用combine()进行汇总统计然后合并结果； 可以用select, select!生成与每个子数据框行数相同的仅包含新生成列的结果； 可以用transform, transform!对每个子数据框生成与每个子数据框行数相同的结果数据框， 其中包括原有列与新生成的列。 最后将分组的结果合并。 对每个子数据框汇总或者变换时， 用“cols => func”或格式“cols => func => newcols”格式指定那些了列需要进行什么操作。 实际上， 部分组也可以使用这些函数进行操作， 这可以看成是仅有一个组。"
   ]
  },
  {
   "cell_type": "code",
   "execution_count": 60,
   "metadata": {},
   "outputs": [
    {
     "data": {
      "text/html": [
       "<div><div style = \"float: left;\"><span>2×2 DataFrame</span></div><div style = \"clear: both;\"></div></div><div class = \"data-frame\" style = \"overflow-x: scroll;\"><table class = \"data-frame\" style = \"margin-bottom: 6px;\"><thead><tr class = \"header\"><th class = \"rowNumber\" style = \"font-weight: bold; text-align: right;\">Row</th><th style = \"text-align: left;\">sex</th><th style = \"text-align: left;\">nrow</th></tr><tr class = \"subheader headerLastRow\"><th class = \"rowNumber\" style = \"font-weight: bold; text-align: right;\"></th><th title = \"String1\" style = \"text-align: left;\">String1</th><th title = \"Int64\" style = \"text-align: left;\">Int64</th></tr></thead><tbody><tr><td class = \"rowNumber\" style = \"font-weight: bold; text-align: right;\">1</td><td style = \"text-align: left;\">F</td><td style = \"text-align: right;\">4</td></tr><tr><td class = \"rowNumber\" style = \"font-weight: bold; text-align: right;\">2</td><td style = \"text-align: left;\">M</td><td style = \"text-align: right;\">5</td></tr></tbody></table></div>"
      ],
      "text/latex": [
       "\\begin{tabular}{r|cc}\n",
       "\t& sex & nrow\\\\\n",
       "\t\\hline\n",
       "\t& String1 & Int64\\\\\n",
       "\t\\hline\n",
       "\t1 & F & 4 \\\\\n",
       "\t2 & M & 5 \\\\\n",
       "\\end{tabular}\n"
      ],
      "text/plain": [
       "\u001b[1m2×2 DataFrame\u001b[0m\n",
       "\u001b[1m Row \u001b[0m│\u001b[1m sex     \u001b[0m\u001b[1m nrow  \u001b[0m\n",
       "     │\u001b[90m String1 \u001b[0m\u001b[90m Int64 \u001b[0m\n",
       "─────┼────────────────\n",
       "   1 │ F            4\n",
       "   2 │ M            5"
      ]
     },
     "execution_count": 60,
     "metadata": {},
     "output_type": "execute_result"
    }
   ],
   "source": [
    "using DataFrames, Statistics\n",
    "d_class = CSV.read(\"data/class9.csv\", DataFrame)\n",
    "dcl = copy(d_class)\n",
    "gdf = groupby(d_class, :sex)\n",
    "combine(gdf, nrow)"
   ]
  },
  {
   "cell_type": "code",
   "execution_count": 61,
   "metadata": {},
   "outputs": [
    {
     "data": {
      "text/html": [
       "<div><div style = \"float: left;\"><span>2×4 DataFrame</span></div><div style = \"clear: both;\"></div></div><div class = \"data-frame\" style = \"overflow-x: scroll;\"><table class = \"data-frame\" style = \"margin-bottom: 6px;\"><thead><tr class = \"header\"><th class = \"rowNumber\" style = \"font-weight: bold; text-align: right;\">Row</th><th style = \"text-align: left;\">sex</th><th style = \"text-align: left;\">观测数</th><th style = \"text-align: left;\">平均身高</th><th style = \"text-align: left;\">平均体重</th></tr><tr class = \"subheader headerLastRow\"><th class = \"rowNumber\" style = \"font-weight: bold; text-align: right;\"></th><th title = \"String1\" style = \"text-align: left;\">String1</th><th title = \"Int64\" style = \"text-align: left;\">Int64</th><th title = \"Float64\" style = \"text-align: left;\">Float64</th><th title = \"Float64\" style = \"text-align: left;\">Float64</th></tr></thead><tbody><tr><td class = \"rowNumber\" style = \"font-weight: bold; text-align: right;\">1</td><td style = \"text-align: left;\">F</td><td style = \"text-align: right;\">4</td><td style = \"text-align: right;\">142.25</td><td style = \"text-align: right;\">33.5</td></tr><tr><td class = \"rowNumber\" style = \"font-weight: bold; text-align: right;\">2</td><td style = \"text-align: left;\">M</td><td style = \"text-align: right;\">5</td><td style = \"text-align: right;\">153.2</td><td style = \"text-align: right;\">43.6</td></tr></tbody></table></div>"
      ],
      "text/latex": [
       "\\begin{tabular}{r|cccc}\n",
       "\t& sex & 观测数 & 平均身高 & 平均体重\\\\\n",
       "\t\\hline\n",
       "\t& String1 & Int64 & Float64 & Float64\\\\\n",
       "\t\\hline\n",
       "\t1 & F & 4 & 142.25 & 33.5 \\\\\n",
       "\t2 & M & 5 & 153.2 & 43.6 \\\\\n",
       "\\end{tabular}\n"
      ],
      "text/plain": [
       "\u001b[1m2×4 DataFrame\u001b[0m\n",
       "\u001b[1m Row \u001b[0m│\u001b[1m sex     \u001b[0m\u001b[1m 观测数 \u001b[0m\u001b[1m 平均身高 \u001b[0m\u001b[1m 平均体重 \u001b[0m\n",
       "     │\u001b[90m String1 \u001b[0m\u001b[90m Int64  \u001b[0m\u001b[90m Float64  \u001b[0m\u001b[90m Float64  \u001b[0m\n",
       "─────┼─────────────────────────────────────\n",
       "   1 │ F             4    142.25      33.5\n",
       "   2 │ M             5    153.2       43.6"
      ]
     },
     "execution_count": 61,
     "metadata": {},
     "output_type": "execute_result"
    }
   ],
   "source": [
    "dcl |>\n",
    "    df -> groupby(df, :sex) |>\n",
    "    subdf -> combine(subdf, \n",
    "    nrow => :观测数, \n",
    "    :height => mean => :平均身高, \n",
    "    :weight => mean => :平均体重)"
   ]
  }
 ],
 "metadata": {
  "kernelspec": {
   "display_name": "Julia 1.10.7",
   "language": "julia",
   "name": "julia-1.10"
  },
  "language_info": {
   "file_extension": ".jl",
   "mimetype": "application/julia",
   "name": "julia",
   "version": "1.10.7"
  }
 },
 "nbformat": 4,
 "nbformat_minor": 2
}
