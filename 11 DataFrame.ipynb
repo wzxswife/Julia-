{
 "cells": [
  {
   "cell_type": "markdown",
   "metadata": {},
   "source": [
    "# 11 DataFrame"
   ]
  },
  {
   "cell_type": "markdown",
   "metadata": {},
   "source": [
    "## 11.1 DataFrame的生成"
   ]
  },
  {
   "cell_type": "code",
   "execution_count": null,
   "metadata": {},
   "outputs": [],
   "source": [
    "using DataFrames\n",
    "da0 = DataFrame(\n",
    "    name=[\"张三\", \"李四\", \"王五\", \"赵六\"], \n",
    "    age=[33, 42, missing, 51],\n",
    "    sex=[\"M\", \"F\", \"M\", \"M\"])\n",
    "da1 = copy(da0)"
   ]
  },
  {
   "cell_type": "code",
   "execution_count": null,
   "metadata": {},
   "outputs": [],
   "source": [
    "mat0 = [[1, 3, 5, 7] [2, 3, 3, 6]]\n",
    "mat1 = DataFrame(mat0,:auto)\n",
    "rename!(mat1, [\"colma\", \"colmb\"]) # 重命名"
   ]
  },
  {
   "cell_type": "markdown",
   "metadata": {},
   "source": [
    "## 11.2 访问DataFrame信息"
   ]
  },
  {
   "cell_type": "code",
   "execution_count": null,
   "metadata": {},
   "outputs": [],
   "source": [
    "println((nrow(da1), ncol(da1)))\n",
    "# 用names(df)返回数据框的变量名字符串数组， 而propertynames(df)返回变量名的符号数组\n",
    "println(@show names(da1))\n",
    "println(@show propertynames(da1))"
   ]
  },
  {
   "cell_type": "code",
   "execution_count": null,
   "metadata": {},
   "outputs": [],
   "source": [
    "# 获取每列的类型\n",
    "zip(names(da1), string.(eltype.(eachcol(da1)))) |> \n",
    "    DataFrame |>\n",
    "    d -> rename!(d, [\"Variable\", \"Type\"])"
   ]
  },
  {
   "cell_type": "markdown",
   "metadata": {},
   "source": [
    "## 11.3 访问DataFrame内容"
   ]
  },
  {
   "cell_type": "markdown",
   "metadata": {},
   "source": [
    "### 11.3.1 访问单个元素"
   ]
  },
  {
   "cell_type": "code",
   "execution_count": null,
   "metadata": {},
   "outputs": [],
   "source": [
    "da1[2,1]\n",
    "da1[2,:name]\n",
    "da1[2,\"name\"]"
   ]
  },
  {
   "cell_type": "code",
   "execution_count": null,
   "metadata": {},
   "outputs": [],
   "source": [
    "# 修改元素的值\n",
    "da1[2,:name] = \"孙七\"\n",
    "da1"
   ]
  },
  {
   "cell_type": "markdown",
   "metadata": {},
   "source": [
    "### 11.3.2 访问一列"
   ]
  },
  {
   "cell_type": "code",
   "execution_count": null,
   "metadata": {},
   "outputs": [],
   "source": [
    "# 访问一列：df[!,2], df[!, \"age\"]或df[!, :age]\n",
    "da1[!, :age]\n",
    "da1[2,:]"
   ]
  },
  {
   "cell_type": "code",
   "execution_count": null,
   "metadata": {},
   "outputs": [],
   "source": [
    "# 在行下标处使用叹号不制作列向量的副本， 效率较高， 可以修改提取的列的值。 可以用冒号:作为行下标， 这会生成一列的副本。\n",
    "# 使用冒号格式，数据不会被修改\n",
    "x = da1[:, :age]\n",
    "x[:] = x .+ 100\n",
    "println(da1)\n",
    "# 使用叹号格式，则会被修改\n",
    "x = da1[!, :age]\n",
    "x[:] = x .+ 100\n",
    "println(da1)"
   ]
  },
  {
   "cell_type": "markdown",
   "metadata": {},
   "source": [
    "当列下标为单个整数、符号、字符串、字符串变量时， 行下标写!或者写:都可以取出一列作为数组。\n",
    "\n",
    "* 叹号格式为“视图”，不制作副本， 修改取出数组同时也会修改原始数据框。\n",
    "* 冒号格式会制作一列的副本， 除非将冒号格式直接放在赋值的左侧， 都不会修改原始数据框。\n",
    "* 为安全起见，应使用冒号格式； 对于很大的数据框， 复制会造成较大开销， 可以谨慎地使用叹号格式。"
   ]
  },
  {
   "cell_type": "markdown",
   "metadata": {},
   "source": [
    "### 11.3.3 用select选列子集"
   ]
  },
  {
   "cell_type": "code",
   "execution_count": null,
   "metadata": {},
   "outputs": [],
   "source": [
    "# select可以挑选列子集，返回副本\n",
    "println(select(da1, :name, :age))\n",
    "# 用Not()说明要去掉的列\n",
    "println(select(da1, Not([:name, :age])))\n",
    "# 如下的做法可以将某一列提前到第一列：\n",
    "println(select(da1, :age, :))"
   ]
  },
  {
   "cell_type": "markdown",
   "metadata": {},
   "source": [
    "### 11.3.4 访问行子集"
   ]
  },
  {
   "cell_type": "code",
   "execution_count": null,
   "metadata": {},
   "outputs": [],
   "source": [
    "# 可以用first(df,k)取出df前面k行组成的子集， 用last(df,k)取出df最后k行组成的子集。\n",
    "println(first(da1, 2))\n",
    "println(last(da1, 2))\n",
    "# 除了用行序号取行子集， 还可以用条件取行子集\n",
    "print(da0[da0.sex .== \"F\", :])\n",
    "# 可以用in.()判断某列的值是否属于某个子集， 此子集使用Ref()函数指定\n",
    "print(da0[in.(da0.name, Ref([\"张三\", \"李四\"])), :])"
   ]
  },
  {
   "cell_type": "code",
   "execution_count": null,
   "metadata": {},
   "outputs": [],
   "source": [
    "# subset()函数输入一个数据框和若干个变量名和关于该变量选择行子集的示性函数（返回逻辑值的函数）， 返回满足条件的子集副本\n",
    "print(subset(da0, :sex => x -> x .== \"M\"))\n",
    "# 如果某一列有缺失值， 则对此列的逻辑判断结果也会有缺失值。 这时可以用coallese()函数指定缺失时的结果替换值，如：\n",
    "print(subset(da0, :age => x -> coalesce.(x .< 45, false), :sex => x -> x .== \"M\"))\n",
    "print(subset(da0, :age => x -> x .< 45, :sex => x -> x .== \"M\",skipmissing=true))"
   ]
  },
  {
   "cell_type": "code",
   "execution_count": null,
   "metadata": {},
   "outputs": [],
   "source": [
    "# 可以用filter(f, df)取出df的满足条件的行子集， 其中f是一个以一行作为有名元组类型自变量的示性函数\n",
    "print(filter(row -> row.sex == \"F\", da1))\n",
    "# filter!则会修改输入的数据框， 仅保留满足条件的行"
   ]
  },
  {
   "cell_type": "markdown",
   "metadata": {},
   "source": [
    "### 11.3.5 访问行列子集"
   ]
  },
  {
   "cell_type": "code",
   "execution_count": null,
   "metadata": {},
   "outputs": [],
   "source": [
    "# 对行、列下标可以指定范围， 用下标向量或者变量名符号向量\n",
    "print(da1[2:4, [1,3]])\n",
    "print(da1[2:4, [:name, :sex]])\n",
    "# 如果仅取一列， 结果将不再是数据框， 而是普通数组\n",
    "print(da1[2:4, :sex])\n",
    "# 但是， 如果列下标位置使用数组记号， 则可以取出仅有一列的数据框\n",
    "print(da1[2:4,[:sex]])"
   ]
  },
  {
   "cell_type": "code",
   "execution_count": null,
   "metadata": {},
   "outputs": [],
   "source": [
    "# 视图是数据框的一个子集， 但不制作副本， 修改视图也会修改原始数据框。 \n",
    "# 对大型数据访问效率更高， 但访问其中一部分时序号进行下标转换， 有一些额外开销。\n",
    "da2v = @view da1[2:4, [:sex, :age]]"
   ]
  },
  {
   "cell_type": "markdown",
   "metadata": {},
   "source": [
    "### 11.3.6 添加列"
   ]
  },
  {
   "cell_type": "code",
   "execution_count": null,
   "metadata": {},
   "outputs": [],
   "source": [
    "da1 = copy(da0)\n",
    "da1[!,:group] = [1,1,2,2]\n",
    "print(da1)\n",
    "\n",
    "# 如果需要添加一些统计量列， 可以用transform()函数， 格式是transform(df, 列名 => 变换函数 => 结果变量名)\n",
    "using Statistics\n",
    "da1[!,:height] .= [166, 182, 173, 171]\n",
    "da2 = transform(da1, :height => maximum => :max_height)\n",
    "print(da2)\n",
    "\n",
    "# 也可以对某一列的每一行进行变化， 这时用ByRow()说明要进行的变换。 可以对多列分别变换。\n",
    "da2 = transform(da1, \n",
    "    :height => maximum => :max_height,\n",
    "    :age => ByRow(x -> x + 20) => :newage)\n",
    "print(da2)\n",
    "\n",
    "# 可以用Cols()将不同的列选择方式合并使用\n",
    "# da2 = da1[:, Cols(:name, Between(:sex, :height))]\n",
    "print(da1[:, Cols(:name, Between(:sex, :height))])"
   ]
  },
  {
   "cell_type": "markdown",
   "metadata": {},
   "source": [
    "### 11.3.7 添加行"
   ]
  },
  {
   "cell_type": "code",
   "execution_count": null,
   "metadata": {},
   "outputs": [],
   "source": [
    "da1 = copy(da0)\n",
    "da2 = push!(da1, (\"钱多\", 59, \"M\"))\n",
    "print(da2)"
   ]
  },
  {
   "cell_type": "markdown",
   "metadata": {},
   "source": [
    "## 11.4 文件读写"
   ]
  },
  {
   "cell_type": "markdown",
   "metadata": {},
   "source": [
    "### 11.4.1 CSV文件读写"
   ]
  },
  {
   "cell_type": "code",
   "execution_count": null,
   "metadata": {},
   "outputs": [],
   "source": [
    "# 读入\n",
    "using CSV, DataFrames\n",
    "d_class = CSV.read(\"data/class9.csv\", DataFrame)"
   ]
  },
  {
   "cell_type": "code",
   "execution_count": null,
   "metadata": {},
   "outputs": [],
   "source": [
    "# 选项：用户可以用types参数指定一个从变量名字符串到类型的字典\n",
    "d_class = CSV.read(\"data/class9.csv\", DataFrame,\n",
    "        types=Dict(\n",
    "            \"name\" => String, \n",
    "            \"sex\" => String, \n",
    "            \"height\" => Float64,\n",
    "            \"weight\" => Float64))"
   ]
  },
  {
   "cell_type": "code",
   "execution_count": null,
   "metadata": {},
   "outputs": [],
   "source": [
    "# 从网络读入\n",
    "using Downloads\n",
    "urlf = \"https://archive.ics.uci.edu/ml/machine-learning-databases/heart-disease/processed.cleveland.data\"\n",
    "dht = CSV.read(Downloads.download(urlf), DataFrame,\n",
    "    header=0)\n",
    "rename!(dht, [\"age\", \"sex\", \"cp\", \"trestbps\", \"chol\", \n",
    "    \"fbs\", \"restecg\", \"thalach\", \"exang\", \"oldpeak\",    \n",
    "    \"slope\", \"ca\", \"thal\", \"num\"])\n",
    "print(first(dht,5))"
   ]
  },
  {
   "cell_type": "code",
   "execution_count": null,
   "metadata": {},
   "outputs": [],
   "source": [
    "# 写出\n",
    "CSV.write(\"data/cleveland.csv\",dht)"
   ]
  },
  {
   "cell_type": "markdown",
   "metadata": {},
   "source": [
    "### 11.4.2 Excel文件读写"
   ]
  },
  {
   "cell_type": "code",
   "execution_count": null,
   "metadata": {},
   "outputs": [],
   "source": []
  },
  {
   "cell_type": "markdown",
   "metadata": {},
   "source": [
    "## 11.5 数据框变量概括"
   ]
  },
  {
   "cell_type": "code",
   "execution_count": null,
   "metadata": {},
   "outputs": [],
   "source": [
    "# 用describe()函数对数据框各个变量进行简单概括， 结果为数据框格式\n",
    "describe(dht)"
   ]
  },
  {
   "cell_type": "code",
   "execution_count": null,
   "metadata": {},
   "outputs": [],
   "source": [
    "# 常用统计函数有mean, median, var, std, iqr, minimum, maximum, quantile.summarystats(x)函数对数值型变量x计算各种简单统计量， 以纯文本格式显示\n",
    "using Statistics, StatsBase\n",
    "summarystats(dht[!,\"age\"])\n",
    "\n",
    "# 两个变量可以用cov(x,y)计算协方差， cor(x,y)计算相关系数\n",
    "# cov(hcat(eachcol(dcl)...))"
   ]
  },
  {
   "cell_type": "code",
   "execution_count": null,
   "metadata": {},
   "outputs": [],
   "source": [
    "# 可以用combine函数计算统计量。 \n",
    "# 输入数据框， 以及用变量名 => 统计函数或者变量名 => 统计函数 => 结果变量名方式指定的一个或多个要汇总的内容。\n",
    "combine(d_class, :height => mean, :weight => mean)"
   ]
  },
  {
   "cell_type": "markdown",
   "metadata": {},
   "source": [
    "## 11.6 简单修改"
   ]
  },
  {
   "cell_type": "code",
   "execution_count": 12,
   "metadata": {},
   "outputs": [
    {
     "data": {
      "text/html": [
       "<div><div style = \"float: left;\"><span>9×5 DataFrame</span></div><div style = \"clear: both;\"></div></div><div class = \"data-frame\" style = \"overflow-x: scroll;\"><table class = \"data-frame\" style = \"margin-bottom: 6px;\"><thead><tr class = \"header\"><th class = \"rowNumber\" style = \"font-weight: bold; text-align: right;\">Row</th><th style = \"text-align: left;\">name</th><th style = \"text-align: left;\">sex</th><th style = \"text-align: left;\">age</th><th style = \"text-align: left;\">height</th><th style = \"text-align: left;\">weight</th></tr><tr class = \"subheader headerLastRow\"><th class = \"rowNumber\" style = \"font-weight: bold; text-align: right;\"></th><th title = \"String\" style = \"text-align: left;\">String</th><th title = \"String\" style = \"text-align: left;\">String</th><th title = \"Int64\" style = \"text-align: left;\">Int64</th><th title = \"Float64\" style = \"text-align: left;\">Float64</th><th title = \"Float64\" style = \"text-align: left;\">Float64</th></tr></thead><tbody><tr><td class = \"rowNumber\" style = \"font-weight: bold; text-align: right;\">1</td><td style = \"text-align: left;\">Sandy</td><td style = \"text-align: left;\">F</td><td style = \"text-align: right;\">11</td><td style = \"text-align: right;\">1.3</td><td style = \"text-align: right;\">23.0</td></tr><tr><td class = \"rowNumber\" style = \"font-weight: bold; text-align: right;\">2</td><td style = \"text-align: left;\">Karen</td><td style = \"text-align: left;\">F</td><td style = \"text-align: right;\">12</td><td style = \"text-align: right;\">1.43</td><td style = \"text-align: right;\">35.0</td></tr><tr><td class = \"rowNumber\" style = \"font-weight: bold; text-align: right;\">3</td><td style = \"text-align: left;\">Kathy</td><td style = \"text-align: left;\">F</td><td style = \"text-align: right;\">12</td><td style = \"text-align: right;\">1.52</td><td style = \"text-align: right;\">38.0</td></tr><tr><td class = \"rowNumber\" style = \"font-weight: bold; text-align: right;\">4</td><td style = \"text-align: left;\">Alice</td><td style = \"text-align: left;\">F</td><td style = \"text-align: right;\">13</td><td style = \"text-align: right;\">1.44</td><td style = \"text-align: right;\">38.0</td></tr><tr><td class = \"rowNumber\" style = \"font-weight: bold; text-align: right;\">5</td><td style = \"text-align: left;\">Thomas</td><td style = \"text-align: left;\">M</td><td style = \"text-align: right;\">11</td><td style = \"text-align: right;\">1.46</td><td style = \"text-align: right;\">39.0</td></tr><tr><td class = \"rowNumber\" style = \"font-weight: bold; text-align: right;\">6</td><td style = \"text-align: left;\">James</td><td style = \"text-align: left;\">M</td><td style = \"text-align: right;\">12</td><td style = \"text-align: right;\">1.46</td><td style = \"text-align: right;\">38.0</td></tr><tr><td class = \"rowNumber\" style = \"font-weight: bold; text-align: right;\">7</td><td style = \"text-align: left;\">John</td><td style = \"text-align: left;\">M</td><td style = \"text-align: right;\">12</td><td style = \"text-align: right;\">1.5</td><td style = \"text-align: right;\">45.0</td></tr><tr><td class = \"rowNumber\" style = \"font-weight: bold; text-align: right;\">8</td><td style = \"text-align: left;\">Robert</td><td style = \"text-align: left;\">M</td><td style = \"text-align: right;\">12</td><td style = \"text-align: right;\">1.65</td><td style = \"text-align: right;\">58.0</td></tr><tr><td class = \"rowNumber\" style = \"font-weight: bold; text-align: right;\">9</td><td style = \"text-align: left;\">Jeffrey</td><td style = \"text-align: left;\">M</td><td style = \"text-align: right;\">13</td><td style = \"text-align: right;\">1.59</td><td style = \"text-align: right;\">38.0</td></tr></tbody></table></div>"
      ],
      "text/latex": [
       "\\begin{tabular}{r|ccccc}\n",
       "\t& name & sex & age & height & weight\\\\\n",
       "\t\\hline\n",
       "\t& String & String & Int64 & Float64 & Float64\\\\\n",
       "\t\\hline\n",
       "\t1 & Sandy & F & 11 & 1.3 & 23.0 \\\\\n",
       "\t2 & Karen & F & 12 & 1.43 & 35.0 \\\\\n",
       "\t3 & Kathy & F & 12 & 1.52 & 38.0 \\\\\n",
       "\t4 & Alice & F & 13 & 1.44 & 38.0 \\\\\n",
       "\t5 & Thomas & M & 11 & 1.46 & 39.0 \\\\\n",
       "\t6 & James & M & 12 & 1.46 & 38.0 \\\\\n",
       "\t7 & John & M & 12 & 1.5 & 45.0 \\\\\n",
       "\t8 & Robert & M & 12 & 1.65 & 58.0 \\\\\n",
       "\t9 & Jeffrey & M & 13 & 1.59 & 38.0 \\\\\n",
       "\\end{tabular}\n"
      ],
      "text/plain": [
       "\u001b[1m9×5 DataFrame\u001b[0m\n",
       "\u001b[1m Row \u001b[0m│\u001b[1m name    \u001b[0m\u001b[1m sex    \u001b[0m\u001b[1m age   \u001b[0m\u001b[1m height  \u001b[0m\u001b[1m weight  \u001b[0m\n",
       "     │\u001b[90m String  \u001b[0m\u001b[90m String \u001b[0m\u001b[90m Int64 \u001b[0m\u001b[90m Float64 \u001b[0m\u001b[90m Float64 \u001b[0m\n",
       "─────┼──────────────────────────────────────────\n",
       "   1 │ Sandy    F          11     1.3      23.0\n",
       "   2 │ Karen    F          12     1.43     35.0\n",
       "   3 │ Kathy    F          12     1.52     38.0\n",
       "   4 │ Alice    F          13     1.44     38.0\n",
       "   5 │ Thomas   M          11     1.46     39.0\n",
       "   6 │ James    M          12     1.46     38.0\n",
       "   7 │ John     M          12     1.5      45.0\n",
       "   8 │ Robert   M          12     1.65     58.0\n",
       "   9 │ Jeffrey  M          13     1.59     38.0"
      ]
     },
     "execution_count": 12,
     "metadata": {},
     "output_type": "execute_result"
    }
   ],
   "source": [
    "# 用transform!修改列\n",
    "dcl = copy(d_class)\n",
    "transform!(dcl, :height => (x -> x ./ 100),renamecols = false)"
   ]
  },
  {
   "cell_type": "code",
   "execution_count": null,
   "metadata": {},
   "outputs": [],
   "source": [
    "# 用mapcols()对数据框的所有列应用某种变换， 返回变换结果\n"
   ]
  }
 ],
 "metadata": {
  "kernelspec": {
   "display_name": "Julia 1.10.7",
   "language": "julia",
   "name": "julia-1.10"
  },
  "language_info": {
   "file_extension": ".jl",
   "mimetype": "application/julia",
   "name": "julia",
   "version": "1.10.7"
  }
 },
 "nbformat": 4,
 "nbformat_minor": 2
}
