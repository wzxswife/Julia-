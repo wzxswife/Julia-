{
 "cells": [
  {
   "cell_type": "markdown",
   "metadata": {},
   "source": [
    "# 12 Makia包作图"
   ]
  },
  {
   "cell_type": "markdown",
   "metadata": {},
   "source": [
    "## 12.1 样例数据"
   ]
  },
  {
   "cell_type": "code",
   "execution_count": null,
   "metadata": {},
   "outputs": [],
   "source": [
    "using DataFrames, DataFramesMeta, CSV\n",
    "using CategoricalArrays\n",
    "dclass = CSV.read(\"data/class19.csv\", DataFrame)\n",
    "transform!(dclass,\n",
    "    :sex => (s -> categorical(s)),\n",
    "    renamecols = false)\n",
    "transform!(dclass, :sex => (x -> levelcode.(x)) => :sexi,\n",
    "    :age => categorical => :agec)\n",
    "println(first(dclass,5))"
   ]
  },
  {
   "cell_type": "code",
   "execution_count": null,
   "metadata": {},
   "outputs": [],
   "source": [
    "using Downloads\n",
    "urlf = \"https://archive.ics.uci.edu/ml/machine-learning-databases/heart-disease/processed.cleveland.data\"\n",
    "dht = CSV.read(Downloads.download(urlf), DataFrame,\n",
    "    header=0)\n",
    "rename!(dht, [\"age\", \"sex\", \"cp\", \"trestbps\", \"chol\", \n",
    "    \"fbs\", \"restecg\", \"thalach\", \"exang\", \"oldpeak\",    \n",
    "    \"slope\", \"ca\", \"thal\", \"num\"])\n",
    "print(first(dht,5))"
   ]
  },
  {
   "cell_type": "markdown",
   "metadata": {},
   "source": [
    "## 12.2 简单一次性完成的图形"
   ]
  },
  {
   "cell_type": "code",
   "execution_count": null,
   "metadata": {},
   "outputs": [],
   "source": [
    "using DataFrames\n",
    "using CairoMakie\n",
    "CairoMakie.activate!()\n",
    "# 折线图\n",
    "da0 = copy(dclass)\n",
    "sort!(da0,:height)\n",
    "lines(da0[:,:height], da0[:,:weight])"
   ]
  },
  {
   "cell_type": "code",
   "execution_count": null,
   "metadata": {},
   "outputs": [],
   "source": [
    "# 直方图\n",
    "hist(da0[:,:height], bins = 6)\n",
    "hist(dht[:,:trestbps], bins=15)"
   ]
  },
  {
   "cell_type": "code",
   "execution_count": null,
   "metadata": {},
   "outputs": [],
   "source": [
    "# 密度估计曲线图\n",
    "density(dclass[:, :height])"
   ]
  },
  {
   "cell_type": "code",
   "execution_count": null,
   "metadata": {},
   "outputs": [],
   "source": [
    "# 盒形图\n",
    "boxplot(dht[:, :sex], dht[:, :trestbps])"
   ]
  },
  {
   "cell_type": "code",
   "execution_count": null,
   "metadata": {},
   "outputs": [],
   "source": [
    "# 正态QQ图\n",
    "# 正态QQ图用来检查输入的变量是否来自正态分布总体， 如果散点与直线比较接近， 则可以认为符合。 \n",
    "# 如果散点的走向与直线明显偏离， 则认为非正态分布。\n",
    "qqnorm(dht[:, :trestbps], qqline=:fit)"
   ]
  },
  {
   "cell_type": "code",
   "execution_count": null,
   "metadata": {},
   "outputs": [],
   "source": [
    "# 经验分布函数图\n",
    "ecdfplot(dht[:, :trestbps])"
   ]
  },
  {
   "cell_type": "code",
   "execution_count": null,
   "metadata": {},
   "outputs": [],
   "source": [
    "# 曲面的等高线图\n",
    "function surfd()\n",
    "    n = 100\n",
    "    xs = range(-pi, pi, n)\n",
    "    ys = range(-pi, pi, n)\n",
    "    z = [exp(-0.5*((x + 1)^2 + 0.5*y^2))*cos(4*x) +\n",
    "        exp(-0.8*(2*x^2 + (y-1)^2))*cos(2*y)\n",
    "        for x in xs, y in ys]\n",
    "    return (xs, ys, z)\n",
    "end\n",
    "x, y, z = surfd()\n",
    "\n",
    "contour(x, y, z, levels=20)"
   ]
  },
  {
   "cell_type": "code",
   "execution_count": null,
   "metadata": {},
   "outputs": [],
   "source": [
    "# 曲面的染色等高线图\n",
    "x, y, z = surfd()\n",
    "fig, ax, plt = contourf(x, y, z, levels=20)\n",
    "Colorbar(fig[1,2], plt)\n",
    "fig"
   ]
  },
  {
   "cell_type": "code",
   "execution_count": null,
   "metadata": {},
   "outputs": [],
   "source": [
    "# 曲面的热力图\n",
    "x, y, z = surfd()\n",
    "heatmap(x, y, z)"
   ]
  },
  {
   "cell_type": "markdown",
   "metadata": {},
   "source": [
    "## 12.3 Makie重要概念和作图步骤\n",
    "* 绘图板(figure)，相当于绘图用的纸张。\n",
    "* 坐标系统(axis)，可以定位图形内容，设置大小等。\n",
    "* 绘图(plots)。具体的散点、连线、曲面、热力图等绘图内容。\n",
    "* 坐标轴、标题等标注。\n",
    "* 图例，颜色对应条。\n",
    "* 小图拼凑。<br>\n",
    "\n",
    "最基本的步骤是用`Figure()`函数新建绘图板， 用`Axis()`函数在此绘图板上建立一到多个绘图区域并自动生成坐标系统， 用散点、连线等作图函数作图。 也可以省略`Figure()`和`Axis()`调用， 直接用作图函数做出简单图形。"
   ]
  },
  {
   "cell_type": "markdown",
   "metadata": {},
   "source": [
    "### 画布\n",
    "用`Figure()`函数新建一个画布， 可以在其中放置坐标轴、散点、连线、标题、图例、颜色代码表等内容。 其中可以用`backgroundcolor`设置背景色， 用`resolution`设置大小， 如(800, 600)，单位是像素"
   ]
  },
  {
   "cell_type": "code",
   "execution_count": null,
   "metadata": {},
   "outputs": [],
   "source": [
    "using CairoMakie\n",
    "CairoMakie.activate!()\n",
    "\n",
    "fig1 = Figure(backgroundcolor=:gray, resolution = (800, 300))"
   ]
  },
  {
   "cell_type": "markdown",
   "metadata": {},
   "source": [
    "### 添加坐标轴\n",
    "用`Axis()`命令在已建立的画布中建立坐标系。 最常用的输入是选择画布分格的左上角格子， 如fig[1,1]， 没有分格子时fig[1,1]就是画布的全部空间。 这种分格称为“布局”（layout）。<br>\n",
    "在`Axis()`中用`title`指定标题， `xlabel`指定x轴标签， `ylabel`指定y轴标签"
   ]
  },
  {
   "cell_type": "code",
   "execution_count": null,
   "metadata": {},
   "outputs": [],
   "source": [
    "ax = Axis(fig1[1,1],\n",
    "    title = \"这是标题\",\n",
    "    xlabel = \"x\",\n",
    "    ylabel = \"y\")"
   ]
  },
  {
   "cell_type": "markdown",
   "metadata": {},
   "source": [
    "### 添加图形内容及颜色设置\n",
    "散点图可以用`color`指定散点颜色， 用`markersize`指定大小（单位为像素）， 用`marker`指定散点的符号， 用`strokecolor`指定散点轮廓线颜色， 用`strokewidth`指定散点轮廓线宽度"
   ]
  },
  {
   "cell_type": "code",
   "execution_count": null,
   "metadata": {},
   "outputs": [],
   "source": [
    "using CairoMakie\n",
    "CairoMakie.activate!()\n",
    "using Colors\n",
    "da1 = sort!(dclass,:age)\n",
    "fig = Figure()\n",
    "ax = Axis(fig[1,1],\n",
    "    title = \"设置颜色的散点图示例\",\n",
    "    xlabel = \"x\",\n",
    "    ylabel = \"y\")\n",
    "    scatter!(ax, da1[:,:age], da1[:,:height],\n",
    "    color = :purple, marker = :ucircle, markersize=10)\n",
    "display(fig)"
   ]
  },
  {
   "cell_type": "markdown",
   "metadata": {},
   "source": [
    "### 多个图层\n",
    "只要多次调用`lines!()`, `scatter!()`等函数就可以将多个图形叠加地画在同一坐标系中。<br>\n",
    "只要在每个图层中用label参数指定一个图层的标签， 然后调用`axislegend()`函数就可以在指定的坐标系统中自动给出图例<br>\n",
    "`axislegend()`可以用参数`position`设置位置， 用l, c, r表示左右位置， t, c, b表示上下位置"
   ]
  },
  {
   "cell_type": "code",
   "execution_count": null,
   "metadata": {},
   "outputs": [],
   "source": [
    "dline01 = DataFrame(x = 1:5,y = [11, 13, 18, 15, 14])\n",
    "dline02 = DataFrame(x = [0,1,3,6,7,8], y=[15, 13, 14, 11, 10, 9])\n",
    "fig = Figure()\n",
    "ax = Axis(fig[1,1],\n",
    "    title = \"散点图和折线图叠加示例\",\n",
    "    xlabel = \"x\",\n",
    "    ylabel = \"y\")\n",
    "scatter!(ax, dline01[:,:x], dline01[:,:y], label=\"Data A\")\n",
    "lines!(ax, dline02[:,:x], dline02[:,:y], color=:red, label=\"Data B\")\n",
    "axislegend(ax)\n",
    "display(fig)"
   ]
  },
  {
   "cell_type": "markdown",
   "metadata": {},
   "source": [
    "### 一次性完成作图"
   ]
  },
  {
   "cell_type": "code",
   "execution_count": null,
   "metadata": {},
   "outputs": [],
   "source": [
    "fig, ax, plt = lines(dline01[:,:x], dline01[:,:y])"
   ]
  },
  {
   "cell_type": "markdown",
   "metadata": {},
   "source": [
    "### 显示和保存"
   ]
  },
  {
   "cell_type": "code",
   "execution_count": null,
   "metadata": {},
   "outputs": [],
   "source": [
    "save(\"Picture/testPic.png\", fig)"
   ]
  },
  {
   "cell_type": "markdown",
   "metadata": {},
   "source": [
    "## 12.4 Makie作图定制"
   ]
  },
  {
   "cell_type": "code",
   "execution_count": null,
   "metadata": {},
   "outputs": [],
   "source": [
    "using CairoMakie, DataFrames\n",
    "CairoMakie.activate!()\n",
    "using Colors\n",
    "dline01 = DataFrame(x = 1:5,y = [11, 13, 18, 15, 14])\n",
    "dline02 = DataFrame(x = [0,1,3,6,7,8], y=[15, 13, 14, 11, 10, 9])"
   ]
  },
  {
   "cell_type": "markdown",
   "metadata": {},
   "source": [
    "### 在作图函数中设置画布和坐标系统属性\n",
    "可以用`Figure()`设置与绘图板有关的属性， 包括背景色，像素大小等；<br> 用`Axis()`设置与坐标系统有关的属性， 包括标题、轴标题、刻度设置等。"
   ]
  },
  {
   "cell_type": "code",
   "execution_count": null,
   "metadata": {},
   "outputs": [],
   "source": [
    "fig = Figure(backgroundcolor = :gray80, resolution = (400, 300))\n",
    "ax = Axis(fig[1,1], title = \"测试标题\", xlabel = \"xx\")\n",
    "plt = scatter!(dline01[:,:x], dline01[:,:y], label=\"散点图\")\n",
    "display(fig)"
   ]
  },
  {
   "cell_type": "markdown",
   "metadata": {},
   "source": [
    "返回画布、坐标系统和绘图对象三元组的绘图函数（如`scatter(args...; kwargs)`） 支持一个`figure`选项， 输入为一个命名元组， 其中可以使用与`Figure()`函数类似的关键字参数。<br>\n",
    "返回画布、坐标系统和绘图对象三元组的绘图函数（如`scatter(args...; kwargs)`）和返回坐标系统和绘图对象二元组的绘图函数（如`scatter(gridposition, args...; kwargs)`） 支持一个`axis`选项，可以在其中指定与坐标系统有关的属性。 属性写成命名元组的格式， 其中的元素值与`Axis()`命令的关键字参数相同。"
   ]
  },
  {
   "cell_type": "code",
   "execution_count": null,
   "metadata": {},
   "outputs": [],
   "source": [
    "scatter(dline01[:,:x], dline01[:,:y], \n",
    "    figure = (; backgroundcolor=:gray80, resolution=(400,300)),\n",
    "    axis = (; title=\"标题\", xticks = 1:5))"
   ]
  },
  {
   "cell_type": "markdown",
   "metadata": {},
   "source": [
    "### 绘图对象属性\n",
    "`scatter`等一次性作图函数返回画布、坐标系统、绘图对象的三元组， 在指定布局位置时返回坐标系统、绘图对象的二元组， `scatter!()`这样的可变作图函数也返回绘图对象。 设`plt`为一个绘图对象， 则`plt.attributes`包括了绘图对象的各种属性， 比如颜色，符号，线型，字体等。 "
   ]
  },
  {
   "cell_type": "markdown",
   "metadata": {},
   "source": [
    "Colors包定义了许多颜色名称， 参见:<br>\n",
    "https://juliagraphics.github.io/Colors.jl/stable/namedcolors/ <br>\n",
    "ColorThemes包提供了许多调色盘， 其中的符号如`:viridis`, `:heat`可以用作调色盘参数`colormap`的值， 参见：<br>\n",
    "https://makie.juliaplots.org/stable/documentation/colors/"
   ]
  },
  {
   "cell_type": "code",
   "execution_count": null,
   "metadata": {},
   "outputs": [],
   "source": []
  },
  {
   "cell_type": "markdown",
   "metadata": {},
   "source": [
    "### 主题\n",
    "可以用`set_theme!(...)`函数设置一批公用的的属性，称为主题， 其中关于绘图板的属性直接作为关键字参数输入， 关于坐标系统的选项用命名元组输入到`Axis`参数中。 关于图例的选项用命名元组输入到`Legend`参数中。 最后用没有自变量的`settheme!()`取消这个主题的作用。<br>\n",
    "可以用`pallette`中的`color`设置主题所用的调色盘， 这在多个图层重复时自动循环使用。"
   ]
  },
  {
   "cell_type": "code",
   "execution_count": null,
   "metadata": {},
   "outputs": [],
   "source": [
    "set_theme!(; backgroundcolor=:gray80, resolution=(400,300), palette = (; color = [:green, :cyan]), \n",
    "    Axis = (; xtickgridvisible=true, ytickgridvisible=true,\n",
    "        xgridstyle=:dot, ygridstyle=:dot),\n",
    "    Legend = (; bgcolor = (:green, 0.2), framecolor=:yellow))\n",
    "fig, ax, plt = scatter(dline01[:,:x], dline01[:,:y], label=\"数据A\")\n",
    "scatter!(dline02[:,:x], dline02[:,:y], label=\"数据B\")\n",
    "axislegend()\n",
    "set_theme!()\n",
    "fig"
   ]
  },
  {
   "cell_type": "markdown",
   "metadata": {},
   "source": [
    "### 坐标轴设置\n",
    "* 在`Axis()`函数中可以用`title`设置标题， 用`subtitle`设置子标题（在标题下面一行）， 用`xlabel`设置x轴标签， 用`ylabel`设置y轴标签。<br>\n",
    "* 可以用`titlealign`指定标题和小标题的对齐方式， 如`:left`, `:right`。 <br>\n",
    "* 可以用`titlecolor`指定标题颜色， 用`titlefont`指定标题字体， 用`titlesize`指定标题字体大小（像素）。<br>\n",
    "*  小标题也可以使用用类似选项。 可以用`titlegap`指定标题与小标题之间的间隙（像素）。\n",
    "* 可以用`xlims!()`设置x轴范围，对x、y可以同时设置limits!(ax, x1, x2, y1, y2)"
   ]
  },
  {
   "cell_type": "code",
   "execution_count": null,
   "metadata": {},
   "outputs": [],
   "source": [
    "fig = Figure()\n",
    "ax = Axis(fig[1,1],\n",
    "    title = \"简单的折线图示例\",\n",
    "    subtitle = \"使用Axis()设置\",\n",
    "    titlesize = 30, subtitlesize = 15,\n",
    "    titlecolor=:green, subtitlecolor=:pink)\n",
    "lines!(ax, dline01[:,:x], dline01[:,:y])\n",
    "xlims!(ax, [0, 10])\n",
    "display(fig)"
   ]
  },
  {
   "cell_type": "markdown",
   "metadata": {},
   "source": [
    "在`Axis()`中用`xticks`设置x轴刻度， 用`yticks`设置y轴刻度。<br>\n",
    "`xticks`的值也可以写成[0, 2, 4, 6, 8, 10]这样的向量值。 也可以指定标签"
   ]
  },
  {
   "cell_type": "code",
   "execution_count": null,
   "metadata": {},
   "outputs": [],
   "source": [
    "fig = Figure()\n",
    "ax = Axis(fig[1,1], xticks = (0:2:10, [\"t0\", \"t2\", \"t4\", \"t6\", \"t8\", \"t10\"]))\n",
    "lines!(ax, dline01[:,:x], dline01[:,:y])\n",
    "xlims!(ax, [0, 10])\n",
    "display(fig)"
   ]
  },
  {
   "cell_type": "markdown",
   "metadata": {},
   "source": [
    "因为常用各种等间隔刻度， 所以提供了`MultiplesTicks()`函数用来指定特殊间隔的刻度"
   ]
  },
  {
   "cell_type": "code",
   "execution_count": null,
   "metadata": {},
   "outputs": [],
   "source": [
    "let\n",
    "    da = DataFrame(x = 0:0.1:(4*pi))\n",
    "    transform!(da, :x => ByRow(sin) => :y)\n",
    "    fig = Figure()\n",
    "    ax = Axis(fig[1,1], xticks = MultiplesTicks(5, pi, \"π\"))\n",
    "    lines!(ax, da[:,:x], da[:,:y])\n",
    "    fig\n",
    "end"
   ]
  },
  {
   "cell_type": "markdown",
   "metadata": {},
   "source": [
    "可以在`Axis()`中用`xtickformat`参数指定一个函数， 该函数输入刻度值向量， 返回显示字符串向量。<br>\n",
    "`xtickformat`还可以指定一个格式字符串，其中可以用如`{:.2f}`这样的方法指定一个刻度值的输出格式"
   ]
  },
  {
   "cell_type": "code",
   "execution_count": null,
   "metadata": {},
   "outputs": [],
   "source": [
    "fig = Figure()\n",
    "ax = Axis(fig[1,1], xtickformat = (s -> string.(s) .* \"E3\"))\n",
    "lines!(ax, dline01[:,:x], dline01[:,:y])\n",
    "xlims!(ax, 0, 6)\n",
    "display(fig)"
   ]
  },
  {
   "cell_type": "code",
   "execution_count": null,
   "metadata": {},
   "outputs": [],
   "source": [
    "fig = Figure()\n",
    "ax = Axis(fig[1,1], xtickformat = \"{:.2f}\")\n",
    "lines!(ax, dline01[:,:x], dline01[:,:y])\n",
    "display(fig)"
   ]
  },
  {
   "cell_type": "markdown",
   "metadata": {},
   "source": [
    "在`Axis()`中设`yscale = log10`可以对y轴使用对数轴。x轴类似。 可取的值包括`identity`(缺省值), `log10`, `log2`, `log`, `sqrt`, `Makie.logit`"
   ]
  },
  {
   "cell_type": "markdown",
   "metadata": {},
   "source": [
    "###  内部图例"
   ]
  },
  {
   "cell_type": "markdown",
   "metadata": {},
   "source": [
    "在具体制作图形的函数（如`lines()`）中用`label`选项为某一层图形指定标签， 然后用`axislegend()`制作某一坐标系统的图例<br>\n",
    "用`marker`可以修改散点形状， 取值如`:circle`, `:rect`, `:utriangle`, `:dtriangle`, `:diamond`, `:pentagon`, `:cross`, `:xcross`等<br>\n",
    "用`linestyle`可以修改线型，取值如`nothing`(实线), `:dash`, `:dot`, `:dashdot`, `:dashdotdot`等<br>"
   ]
  },
  {
   "cell_type": "code",
   "execution_count": null,
   "metadata": {},
   "outputs": [],
   "source": [
    "fig = Figure()\n",
    "ax = Axis(fig[1,1],\n",
    "    title = \"散点图和折线图叠加示例\",\n",
    "    xlabel = \"x\",\n",
    "    ylabel = \"y\")\n",
    "scatter!(ax, dline01[:,:x], dline01[:,:y],\n",
    "    marker = :utriangle, label = \"数据集A\")\n",
    "lines!(ax, dline02[:,:x], dline02[:,:y], \n",
    "    color = :red, linestyle = :dot, label = \"数据集B\")\n",
    "axislegend(ax)\n",
    "display(fig)"
   ]
  },
  {
   "cell_type": "markdown",
   "metadata": {},
   "source": [
    "### 简单布局"
   ]
  },
  {
   "cell_type": "markdown",
   "metadata": {},
   "source": [
    "在`Axis()`中输入绘图位置时， 默认使用第[1,1]块， 可以不分割小块。 这里位置可用如[1,2], [2,1], [2, 1:2]， 使用范围时表示对应该范围的小块合并使用。"
   ]
  },
  {
   "cell_type": "code",
   "execution_count": null,
   "metadata": {},
   "outputs": [],
   "source": [
    "fig = Figure()\n",
    "ax1 = Axis(fig[1, 1:2],\n",
    "    xlabel=\"height\", ylabel=\"weight\")\n",
    "ax2 = Axis(fig[1, 3],\n",
    "    xlabel=\"age\", ylabel=\"weight\")\n",
    "ax3 = Axis(fig[2, 1:3],\n",
    "    xlabel=\"height\")\n",
    "fig"
   ]
  },
  {
   "cell_type": "markdown",
   "metadata": {},
   "source": [
    "有多个小图时， 如果小图之间的x变量, y变量相同， 可能需要对应的坐标轴使用相同的坐标范围。 用`linkxaxis!(ax1, ax2)`可以使两个小图的x坐标轴联系起来， y轴类似。"
   ]
  },
  {
   "cell_type": "code",
   "execution_count": null,
   "metadata": {},
   "outputs": [],
   "source": [
    "linkxaxes!(ax1, ax2)\n",
    "fig"
   ]
  },
  {
   "cell_type": "markdown",
   "metadata": {},
   "source": [
    "### 颜色代码条"
   ]
  },
  {
   "cell_type": "markdown",
   "metadata": {},
   "source": [
    "热力图之类的图形用不同颜色代表z坐标值大小， 一般应该附上一个将颜色与数值参照对应的颜色条作为说明。 使用函数`Colorbar()`，摆放位置也与指定小图位置类似。"
   ]
  },
  {
   "cell_type": "code",
   "execution_count": null,
   "metadata": {},
   "outputs": [],
   "source": [
    "let\n",
    "    xs = range(-pi, pi, 100)\n",
    "    ys = range(-pi, pi, 100)\n",
    "    z = [exp(-0.1*(x^2 + y^2))*(cos(x) + sin(y)) \n",
    "        for x in xs, y in ys]\n",
    "    fig = Figure()\n",
    "    ax = Axis(fig[1,1])\n",
    "    p = contourf!(ax, z, colormap = :heat)\n",
    "    Colorbar(fig[1,2], p)\n",
    "    display(fig)\n",
    "end"
   ]
  },
  {
   "cell_type": "markdown",
   "metadata": {},
   "source": [
    "### 使用LaTeX公式"
   ]
  },
  {
   "cell_type": "code",
   "execution_count": null,
   "metadata": {},
   "outputs": [],
   "source": [
    "let\n",
    "    x = 0:0.01:4\n",
    "    f = x -> exp(-0.2*x) * cos(2*pi*x)\n",
    "    y = f.(x)\n",
    "    fig, ax, plt = lines(x, y, \n",
    "        label = L\"e^{-0.2 x} \\cos(2 \\pi x)\")\n",
    "    text!(L\"f(x) = e^x; \\quad  g(x) = \\cos x\", position = (1.5, 0.9))\n",
    "    axislegend()\n",
    "    fig\n",
    "end"
   ]
  }
 ],
 "metadata": {
  "kernelspec": {
   "display_name": "Julia 1.10.7",
   "language": "julia",
   "name": "julia-1.10"
  },
  "language_info": {
   "file_extension": ".jl",
   "mimetype": "application/julia",
   "name": "julia",
   "version": "1.10.7"
  }
 },
 "nbformat": 4,
 "nbformat_minor": 2
}
